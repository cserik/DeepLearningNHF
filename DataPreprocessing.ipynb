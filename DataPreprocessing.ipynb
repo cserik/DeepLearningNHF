{
  "nbformat": 4,
  "nbformat_minor": 0,
  "metadata": {
    "colab": {
      "name": "Untitled0.ipynb",
      "provenance": []
    },
    "kernelspec": {
      "name": "python3",
      "display_name": "Python 3"
    },
    "language_info": {
      "name": "python"
    },
    "accelerator": "GPU"
  },
  "cells": [
    {
      "cell_type": "code",
      "metadata": {
        "id": "ide_tv0HPHM0"
      },
      "source": [
        "#import libraries\n",
        "import matplotlib.pyplot as plt\n",
        "import numpy as np\n",
        "import matplotlib.image as img\n",
        "import os"
      ],
      "execution_count": 1,
      "outputs": []
    },
    {
      "cell_type": "code",
      "metadata": {
        "colab": {
          "base_uri": "https://localhost:8080/"
        },
        "id": "MR8aLRSc2g4H",
        "outputId": "e657e878-8b17-478b-821b-0b69c4da87a4"
      },
      "source": [
        "#our dataset is from kaggle\n",
        "! pip install kaggle"
      ],
      "execution_count": 3,
      "outputs": [
        {
          "output_type": "stream",
          "name": "stdout",
          "text": [
            "Requirement already satisfied: kaggle in /usr/local/lib/python3.7/dist-packages (1.5.12)\n",
            "Requirement already satisfied: requests in /usr/local/lib/python3.7/dist-packages (from kaggle) (2.23.0)\n",
            "Requirement already satisfied: urllib3 in /usr/local/lib/python3.7/dist-packages (from kaggle) (1.24.3)\n",
            "Requirement already satisfied: python-slugify in /usr/local/lib/python3.7/dist-packages (from kaggle) (5.0.2)\n",
            "Requirement already satisfied: python-dateutil in /usr/local/lib/python3.7/dist-packages (from kaggle) (2.8.2)\n",
            "Requirement already satisfied: certifi in /usr/local/lib/python3.7/dist-packages (from kaggle) (2021.5.30)\n",
            "Requirement already satisfied: six>=1.10 in /usr/local/lib/python3.7/dist-packages (from kaggle) (1.15.0)\n",
            "Requirement already satisfied: tqdm in /usr/local/lib/python3.7/dist-packages (from kaggle) (4.62.3)\n",
            "Requirement already satisfied: text-unidecode>=1.3 in /usr/local/lib/python3.7/dist-packages (from python-slugify->kaggle) (1.3)\n",
            "Requirement already satisfied: idna<3,>=2.5 in /usr/local/lib/python3.7/dist-packages (from requests->kaggle) (2.10)\n",
            "Requirement already satisfied: chardet<4,>=3.0.2 in /usr/local/lib/python3.7/dist-packages (from requests->kaggle) (3.0.4)\n"
          ]
        }
      ]
    },
    {
      "cell_type": "code",
      "metadata": {
        "id": "0ftRsbTY3H41"
      },
      "source": [
        "#we created an API token for kaggle (kaggle.json file)\n",
        "#make a directory with a name : kaggle\n",
        "! mkdir ~/.kaggle"
      ],
      "execution_count": 4,
      "outputs": []
    },
    {
      "cell_type": "code",
      "metadata": {
        "id": "uY0i2f9a2kzj"
      },
      "source": [
        "#copy kaggle.json file to kaggle \n",
        "! cp kaggle.json ~/.kaggle/"
      ],
      "execution_count": 6,
      "outputs": []
    },
    {
      "cell_type": "code",
      "metadata": {
        "id": "qErowrP628l_"
      },
      "source": [
        "#change the permissions of the file\n",
        "! chmod 600 ~/.kaggle/kaggle.json"
      ],
      "execution_count": 7,
      "outputs": []
    },
    {
      "cell_type": "code",
      "metadata": {
        "colab": {
          "base_uri": "https://localhost:8080/"
        },
        "id": "7fzkqu28PLxy",
        "outputId": "319869b1-8c44-4441-b045-4d4b4c49863c"
      },
      "source": [
        "#download the dataset\n",
        "! kaggle datasets download -d badasstechie/celebahq-resized-256x256"
      ],
      "execution_count": 8,
      "outputs": [
        {
          "output_type": "stream",
          "name": "stdout",
          "text": [
            "Downloading celebahq-resized-256x256.zip to /content\n",
            " 99% 280M/283M [00:02<00:00, 111MB/s] \n",
            "100% 283M/283M [00:02<00:00, 111MB/s]\n"
          ]
        }
      ]
    },
    {
      "cell_type": "code",
      "metadata": {
        "id": "mRE2fzbk3xss"
      },
      "source": [
        "! unzip celebahq-resized-256x256.zip"
      ],
      "execution_count": null,
      "outputs": []
    },
    {
      "cell_type": "code",
      "metadata": {
        "id": "pA90Eqtf4ZgS"
      },
      "source": [
        "#get the name of the images\n",
        "arr=os.listdir('celeba_hq_256')"
      ],
      "execution_count": 2,
      "outputs": []
    },
    {
      "cell_type": "code",
      "metadata": {
        "id": "uxlMOGeV6nCY"
      },
      "source": [
        "#read images in\n",
        "images=[]\n",
        "for i in arr:\n",
        "  image=img.imread(\"celeba_hq_256/\"+i)\n",
        "  images.append(image)"
      ],
      "execution_count": 3,
      "outputs": []
    },
    {
      "cell_type": "code",
      "metadata": {
        "id": "iYZnv4RApFo6"
      },
      "source": [
        "#split the dataset into two parts\n",
        "#validation split later in model.fit function\n",
        "test_split = 0.1\n",
        "num_of_picture=len(arr)\n",
        "celeba_train = np.asarray(images[0:int(num_of_picture*(1-test_split))])\n",
        "celeba_test  = np.asarray(images[int(num_of_picture*(1-test_split)):])"
      ],
      "execution_count": 4,
      "outputs": []
    },
    {
      "cell_type": "code",
      "metadata": {
        "colab": {
          "base_uri": "https://localhost:8080/"
        },
        "id": "YvTvhYheu3zh",
        "outputId": "3c643ee3-a987-478d-d928-0c10ca945bf6"
      },
      "source": [
        "#print the shape of the dataset\n",
        "print(celeba_train.shape)\n",
        "print(celeba_test.shape)"
      ],
      "execution_count": 5,
      "outputs": [
        {
          "output_type": "stream",
          "name": "stdout",
          "text": [
            "(27000, 256, 256, 3)\n",
            "(3000, 256, 256, 3)\n"
          ]
        }
      ]
    }
  ]
}